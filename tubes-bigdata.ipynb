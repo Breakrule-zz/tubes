{
 "cells": [
  {
   "cell_type": "markdown",
   "metadata": {},
   "source": [
    "### 1. IMPORT LIBRARY"
   ]
  },
  {
   "cell_type": "code",
   "execution_count": null,
   "metadata": {},
   "outputs": [],
   "source": [
    "# Import the necessary packages used in this notebook\n",
    "import numpy as np\n",
    "import pandas as pd\n",
    "import matplotlib.pyplot as plt\n",
    "import seaborn as sns\n",
    "import os\n",
    "print(os.listdir(\"../input\"))\n",
    "# Any results you write to the current directory are saved as output."
   ]
  },
  {
   "cell_type": "markdown",
   "metadata": {},
   "source": [
    "**Read the dataset and save it to variable 'datafr'"
   ]
  },
  {
   "cell_type": "code",
   "execution_count": null,
   "metadata": {},
   "outputs": [],
   "source": [
    "datafr = pd.read_csv(\"../input/datafifa.csv\", error_bad_lines=False)"
   ]
  },
  {
   "cell_type": "markdown",
   "metadata": {},
   "source": [
    "**Display the structure of the dataset"
   ]
  },
  {
   "cell_type": "code",
   "execution_count": null,
   "metadata": {},
   "outputs": [],
   "source": [
    "display(datafr.head(10))"
   ]
  },
  {
   "cell_type": "markdown",
   "metadata": {},
   "source": [
    "**Identifying the shape of the dataset"
   ]
  },
  {
   "cell_type": "code",
   "execution_count": null,
   "metadata": {},
   "outputs": [],
   "source": [
    "# Dimension of the datatset\n",
    "print(\"Dimension of the dataset is: \",datafr.shape)"
   ]
  },
  {
   "cell_type": "markdown",
   "metadata": {},
   "source": [
    "**Missing values for each attribute"
   ]
  },
  {
   "cell_type": "code",
   "execution_count": null,
   "metadata": {},
   "outputs": [],
   "source": [
    "# Check the missing values in the column\n",
    "datafr.isnull().sum().sort_values(ascending=False)"
   ]
  },
  {
   "cell_type": "markdown",
   "metadata": {},
   "source": [
    "**Above stats shows that there are a lot of empty values and this large number can not be filled, so dropping the most empty columns woud help**"
   ]
  },
  {
   "cell_type": "code",
   "execution_count": null,
   "metadata": {},
   "outputs": [],
   "source": [
    "datafr.drop('Loaned From',axis=1,inplace=True) #axis=1 represents the column\n",
    "\n",
    "#**Dropped the column 'Loaned From' as it has 93% of missing data, thus not suitable for our evaluation**"
   ]
  },
  {
   "cell_type": "markdown",
   "metadata": {},
   "source": [
    "### 2. Visualization\n",
    "**A. Relationship b/w Jersey Number and Overall "
   ]
  },
  {
   "cell_type": "code",
   "execution_count": null,
   "metadata": {},
   "outputs": [],
   "source": [
    "plt.figure(figsize=(12,10))\n",
    "ax = sns.scatterplot(x=\"Jersey Number\", y=\"Overall\", hue =\"Overall\", size= \"Overall\", data=datafr)\n",
    "ax.set_title('Scatter plot of Jersey Number vs Overall', fontsize=16)\n",
    "sns.set_context(\"paper\", font_scale=1.4)\n",
    "\n",
    "# This relationship is not clear, as player's jersey number is associated more with size of club \n",
    "# and their importance of role or position. \n",
    "# Thus we won't be using Jersey Number as our feature.**"
   ]
  },
  {
   "cell_type": "markdown",
   "metadata": {},
   "source": [
    "**B. Ratio of players by Nationality"
   ]
  },
  {
   "cell_type": "code",
   "execution_count": null,
   "metadata": {},
   "outputs": [],
   "source": [
    "datafr['Nationality'].value_counts()[:10]"
   ]
  },
  {
   "cell_type": "code",
   "execution_count": null,
   "metadata": {},
   "outputs": [],
   "source": [
    "# Pie plot showing the overall ratio in the dataset\n",
    "# Data to plot\n",
    "\n",
    "England = len(datafr[datafr['Nationality'] == 'England'])\n",
    "Germany = len(datafr[datafr['Nationality'] == 'Germany'])\n",
    "Spain = len(datafr[datafr['Nationality'] == 'Spain'])\n",
    "Argentina = len(datafr[datafr['Nationality'] == 'Argentina'])\n",
    "France = len(datafr[datafr['Nationality'] == 'France'])\n",
    "Brazil = len(datafr[datafr['Nationality'] == 'Brazil'])\n",
    "Italy = len(datafr[datafr['Nationality'] == 'Italy'])\n",
    "Colombia = len(datafr[datafr['Nationality'] == 'Colombia'])\n",
    "Japan = len(datafr[datafr['Nationality'] == 'Japan'])\n",
    "Netherlands = len(datafr[datafr['Nationality'] == 'Netherlands'])\n",
    "\n",
    "labels = 'England','Germany','Spain','Argentina','France','Brazil','Italy','Colombia','Japan','Netherlands'\n",
    "sizes = [England,Germany,Spain,Argentina,France,Brazil,Italy,Colombia,Japan,Netherlands]\n",
    "plt.figure(figsize=(6,6))\n",
    "\n",
    "# Plot\n",
    "plt.pie(sizes, explode=(0.05, 0.05, 0.05, 0.05, 0.05, 0.05, 0.05, 0.05, 0.05, 0.05), labels=labels, colors=sns.color_palette(\"Purples\"),\n",
    "autopct='%1.1f%%', shadow=True, startangle=90)\n",
    "sns.set_context(\"paper\", font_scale=1.2)\n",
    "plt.title('Ratio of players by different Nationality', fontsize=16)\n",
    "plt.show()"
   ]
  },
  {
   "cell_type": "markdown",
   "metadata": {},
   "source": [
    "**In our given dataset, more than 50% of players come from popular countries like England, Germany, Spain, Argentina and France. This could be explained by the popularity and sizes of domestic leagues within these nations.**"
   ]
  },
  {
   "cell_type": "code",
   "execution_count": null,
   "metadata": {},
   "outputs": [],
   "source": [
    "smart_buy = datafr[(datafr['Contract Valid Until']=='2019') & (datafr['Overall']>=75)]\n",
    "young_buy = smart_buy[smart_buy['Potential']>smart_buy['Overall']]\n",
    "experience_buy = smart_buy[smart_buy['Age']>30]"
   ]
  },
  {
   "cell_type": "code",
   "execution_count": null,
   "metadata": {},
   "outputs": [],
   "source": [
    "plt.figure(figsize=(12,10))\n",
    "ax = sns.scatterplot(x=\"Age\", y=\"Potential\", hue =\"Overall\", size=\"Overall\", data=young_buy)\n",
    "ax.set_title('Scatter plot of Age vs Potential for Smart Trade of Young players', fontsize=16)\n",
    "sns.set_context(\"paper\", font_scale=1.4)"
   ]
  },
  {
   "cell_type": "markdown",
   "metadata": {},
   "source": [
    "**From the above scatter plot, we get to know that there are few players that a club manager could pursue since their contract is running only till 2019 so either club managers could  negotiate less or directly negotiate with player in January transfer window. We might target those players represented by Purples dots in top left quadrant as their current Overall Rating and future Potential rating is high.**"
   ]
  },
  {
   "cell_type": "code",
   "execution_count": null,
   "metadata": {},
   "outputs": [],
   "source": [
    "plt.figure(figsize=(12,10))\n",
    "ax = sns.scatterplot(x=\"Overall\", y=\"Potential\", hue =\"Age\", data=experience_buy)\n",
    "ax.set_title('Scatter plot of Overall vs Potential for Experience Smart Trade', fontsize=16)\n",
    "sns.set_context(\"paper\", font_scale=1.4)"
   ]
  },
  {
   "cell_type": "markdown",
   "metadata": {},
   "source": [
    "**Drop unnecessary columns"
   ]
  },
  {
   "cell_type": "code",
   "execution_count": null,
   "metadata": {},
   "outputs": [],
   "source": [
    "## lets drop unnecessary columns\n",
    "datafr.drop(['ID','Unnamed: 0','Weak Foot','Release Clause','Wage','Photo', 'Nationality', 'Flag', 'Club Logo', 'International Reputation', 'Body Type', 'Real Face','Jersey Number', 'Joined','LS', 'ST', 'RS', 'LW', 'LF', 'CF', 'RF',  'RW','LAM', 'CAM', 'RAM', 'LM', 'LCM', 'CM', 'RCM', 'RM', 'LWB', 'LDM','CDM', 'RDM', 'RWB', 'LB', 'LCB','CB', 'RCB', 'RB'],\n",
    "          axis=1,inplace=True)\n",
    "datafr.shape\n",
    "datafr.head()"
   ]
  },
  {
   "cell_type": "markdown",
   "metadata": {},
   "source": [
    "**C. Count of players by position & Distribution of players by overall"
   ]
  },
  {
   "cell_type": "code",
   "execution_count": null,
   "metadata": {},
   "outputs": [],
   "source": [
    "sns.set(style=\"darkgrid\")\n",
    "fig, axs = plt.subplots(nrows=2, figsize=(16, 20))\n",
    "sns.countplot(datafr['Position'], palette=\"RdPu\", ax=axs[0])\n",
    "axs[0].set_title('Number of players per position', fontsize=16)\n",
    "sns.distplot(datafr['Overall'],color=\"Purple\", ax=axs[1])\n",
    "axs[1].set_title('Distribution of players by Overall', fontsize=16)"
   ]
  },
  {
   "cell_type": "markdown",
   "metadata": {},
   "source": [
    "**D. Youth prospects with high potential growth\n",
    "**Create a dataset for young prospects"
   ]
  },
  {
   "cell_type": "code",
   "execution_count": null,
   "metadata": {},
   "outputs": [],
   "source": [
    "youth_special = datafr[(datafr['Overall']>75) & (datafr['Potential'] - datafr['Overall']>=10)].sort_values(by='Overall',ascending=False)\n",
    "cols = ['Name','Club','Age','Overall','Potential','Position','Value']\n",
    "youth_special[cols]"
   ]
  },
  {
   "cell_type": "code",
   "execution_count": null,
   "metadata": {},
   "outputs": [],
   "source": [
    "sns.set(style=\"darkgrid\")\n",
    "fig, axs = plt.subplots(nrows=2, figsize=(16, 20))\n",
    "sns.countplot(youth_special['Position'], palette=\"PuRd\", ax=axs[0])\n",
    "axs[0].set_title('Number of young prospects per position', fontsize=16)\n",
    "sns.distplot(youth_special['Overall'],color=\"Red\", ax=axs[1])\n",
    "axs[1].set_title('Distribution of young prospects by Overall', fontsize=16)"
   ]
  },
  {
   "cell_type": "markdown",
   "metadata": {},
   "source": [
    "**E. Ratio of youth prospects by Position"
   ]
  },
  {
   "cell_type": "code",
   "execution_count": null,
   "metadata": {},
   "outputs": [],
   "source": [
    "youth_special['Position'].unique()"
   ]
  },
  {
   "cell_type": "code",
   "execution_count": null,
   "metadata": {},
   "outputs": [],
   "source": [
    "# Data to plot\n",
    "GK = len(youth_special[youth_special['Position'] == 'GK'])\n",
    "LM = len(youth_special[youth_special['Position'] == 'LM'])\n",
    "RB = len(youth_special[youth_special['Position'] == 'RB'])\n",
    "CB = len(youth_special[youth_special['Position'] == 'CB'])\n",
    "LW = len(youth_special[youth_special['Position'] == 'LW'])\n",
    "RCM = len(youth_special[youth_special['Position'] == 'RCM'])\n",
    "CM = len(youth_special[youth_special['Position'] == 'CM'])\n",
    "LCB = len(youth_special[youth_special['Position'] == 'LCB'])\n",
    "RS = len(youth_special[youth_special['Position'] == 'RS'])\n",
    "RM = len(youth_special[youth_special['Position'] == 'RM'])\n",
    "ST = len(youth_special[youth_special['Position'] == 'ST'])\n",
    "CDM = len(youth_special[youth_special['Position'] == 'CDM'])\n",
    "LB = len(youth_special[youth_special['Position'] == 'LB'])\n",
    "CAM = len(youth_special[youth_special['Position'] == 'CAM'])\n",
    "\n",
    "labels = 'GK', 'LM', 'RB', 'CB', 'LW', 'RCM', 'CM', 'LCB', 'RS', 'RM', 'ST', 'CDM', 'LB', 'CAM'\n",
    "sizes = [GK,LM,RB,CB,LW,RCM,CM,LCB,RS,RM,ST,CDM,LB,CAM]\n",
    "plt.figure(figsize=(6,6))\n",
    "\n",
    "# Plot\n",
    "plt.pie(sizes, explode=(0.05, 0.05, 0.05, 0.05, 0.05, 0.05, 0.05, 0.05, 0.05, 0.05, 0.05, 0.05, 0.05, 0.05), labels=labels, colors=sns.color_palette(\"Purples\"),\n",
    "autopct='%1.1f%%', shadow=True, startangle=90)\n",
    "sns.set_context(\"paper\", font_scale=1.2)\n",
    "plt.title('Ratio of young prospects by different Positions', fontsize=16)\n",
    "plt.show()"
   ]
  },
  {
   "cell_type": "markdown",
   "metadata": {},
   "source": [
    "# 3. Predictions"
   ]
  },
  {
   "cell_type": "code",
   "execution_count": null,
   "metadata": {},
   "outputs": [],
   "source": [
    "from sklearn.preprocessing import StandardScaler\n",
    "from sklearn.neighbors import NearestNeighbors\n",
    "from sklearn.decomposition import PCA"
   ]
  },
  {
   "cell_type": "code",
   "execution_count": null,
   "metadata": {},
   "outputs": [],
   "source": [
    "datafr.columns"
   ]
  },
  {
   "cell_type": "markdown",
   "metadata": {},
   "source": [
    "**Selecting columns to find similarity among players"
   ]
  },
  {
   "cell_type": "code",
   "execution_count": null,
   "metadata": {},
   "outputs": [],
   "source": [
    "attributes = datafr.iloc[:, 14:]\n",
    "attributes['Skill Moves'] = datafr['Skill Moves']\n",
    "attributes['Age'] = datafr['Age']\n",
    "workrate = datafr['Work Rate'].str.get_dummies(sep='/ ')\n",
    "attributes = pd.concat([attributes, workrate], axis=1)\n",
    "df = attributes\n",
    "attributes = attributes.dropna()\n",
    "df['Name'] = datafr['Name']\n",
    "df['Position'] = datafr['Position']\n",
    "df = df.dropna()\n",
    "print(attributes.columns)"
   ]
  },
  {
   "cell_type": "markdown",
   "metadata": {},
   "source": [
    "**Displaying our attribute set"
   ]
  },
  {
   "cell_type": "code",
   "execution_count": null,
   "metadata": {},
   "outputs": [],
   "source": [
    "attributes.head()"
   ]
  },
  {
   "cell_type": "markdown",
   "metadata": {},
   "source": [
    "**Correlation Matrix based on attribute set"
   ]
  },
  {
   "cell_type": "code",
   "execution_count": null,
   "metadata": {},
   "outputs": [],
   "source": [
    "plt.figure(figsize=(9,9))\n",
    "\n",
    "# Compute the correlation matrix\n",
    "corr = attributes.corr()\n",
    "\n",
    "# Generate a mask for the upper triangle\n",
    "mask = np.zeros_like(corr, dtype=np.bool)\n",
    "mask[np.triu_indices_from(mask)] = True\n",
    "\n",
    "# Draw the heatmap with the mask and correct aspect ratio\n",
    "sns.heatmap(corr, mask=mask, cmap=\"RdBu\", vmax=.3, center=0,\n",
    "            square=True, linewidths=.7, cbar_kws={\"shrink\": .7})"
   ]
  },
  {
   "cell_type": "markdown",
   "metadata": {},
   "source": [
    "**From the above correlation chart, we can see a lot of Goalkeepers attributes have a negative correlation with the attributes possessed by a Forward, Midfielder and Defender.**\n",
    "\n",
    "**Standardize the dataset"
   ]
  },
  {
   "cell_type": "code",
   "execution_count": null,
   "metadata": {},
   "outputs": [],
   "source": [
    "scaled = StandardScaler()\n",
    "X = scaled.fit_transform(attributes)"
   ]
  },
  {
   "cell_type": "markdown",
   "metadata": {},
   "source": [
    "**Create recommendations using NearestNeighbors ML"
   ]
  },
  {
   "cell_type": "code",
   "execution_count": null,
   "metadata": {},
   "outputs": [],
   "source": [
    "recommendations = NearestNeighbors(n_neighbors=5,algorithm='kd_tree')\n",
    "recommendations.fit(X)"
   ]
  },
  {
   "cell_type": "markdown",
   "metadata": {},
   "source": [
    "**Get Similar Players index"
   ]
  },
  {
   "cell_type": "code",
   "execution_count": null,
   "metadata": {},
   "outputs": [],
   "source": [
    "player_index = recommendations.kneighbors(X)[1]"
   ]
  },
  {
   "cell_type": "code",
   "execution_count": null,
   "metadata": {},
   "outputs": [],
   "source": [
    "player_index"
   ]
  },
  {
   "cell_type": "markdown",
   "metadata": {},
   "source": [
    "**Define a recommend function to display results"
   ]
  },
  {
   "cell_type": "code",
   "execution_count": null,
   "metadata": {},
   "outputs": [],
   "source": [
    "def get_index(x):\n",
    "    return df[df['Name']==x].index.tolist()[0]\n",
    "\n",
    "def recommend_similar(player):\n",
    "    print(\"These are 4 players similar to {} : \".format(player))\n",
    "    index=  get_index(player)\n",
    "    for i in player_index[index][1:]:\n",
    "        print(\"Name: {0}\\nPosition: {1}\\n\".format(df.iloc[i]['Name'],df.iloc[i]['Position']))"
   ]
  },
  {
   "cell_type": "markdown",
   "metadata": {},
   "source": [
    "**Test 1 : Eden Hazard**"
   ]
  },
  {
   "cell_type": "code",
   "execution_count": null,
   "metadata": {},
   "outputs": [],
   "source": [
    "recommend_similar('E. Hazard')"
   ]
  },
  {
   "cell_type": "markdown",
   "metadata": {},
   "source": [
    "**Test 2 : Mohamed Salah**"
   ]
  },
  {
   "cell_type": "code",
   "execution_count": null,
   "metadata": {},
   "outputs": [],
   "source": [
    "recommend_similar(player='M. Salah')"
   ]
  },
  {
   "cell_type": "markdown",
   "metadata": {},
   "source": [
    "**Test 3 : Manuel Neuer**"
   ]
  },
  {
   "cell_type": "code",
   "execution_count": null,
   "metadata": {},
   "outputs": [],
   "source": [
    "recommend_similar('M. Neuer')"
   ]
  },
  {
   "cell_type": "markdown",
   "metadata": {},
   "source": [
    "**Test 4: Joe Gomez (Young Prospect)**"
   ]
  },
  {
   "cell_type": "code",
   "execution_count": null,
   "metadata": {},
   "outputs": [],
   "source": [
    "recommend_similar('J. Gomez')"
   ]
  }
 ],
 "metadata": {
  "kernelspec": {
   "display_name": "Python 3",
   "language": "python",
   "name": "python3"
  },
  "language_info": {
   "codemirror_mode": {
    "name": "ipython",
    "version": 3
   },
   "file_extension": ".py",
   "mimetype": "text/x-python",
   "name": "python",
   "nbconvert_exporter": "python",
   "pygments_lexer": "ipython3",
   "version": "3.7.4"
  }
 },
 "nbformat": 4,
 "nbformat_minor": 2
}
